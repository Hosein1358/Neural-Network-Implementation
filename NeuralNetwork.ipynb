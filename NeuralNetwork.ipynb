{
 "cells": [
  {
   "cell_type": "markdown",
   "id": "c10f7e2d-6aff-4d68-a0a6-0263866b6474",
   "metadata": {},
   "source": [
    "# NeuralNetwork Class Definition"
   ]
  },
  {
   "cell_type": "code",
   "execution_count": 5,
   "id": "e9266793-fbaa-45a1-943a-af758d86d259",
   "metadata": {},
   "outputs": [],
   "source": [
    "import numpy as np\n",
    "from scipy.special import expit"
   ]
  },
  {
   "cell_type": "code",
   "execution_count": 6,
   "id": "920c6e28-c300-49ee-a832-54a8da461ee8",
   "metadata": {},
   "outputs": [],
   "source": [
    "class NeuralNetwork:\n",
    "    # Initialize the Neural Network\n",
    "    def __init__(self, input, hidden, output, learning_rate):\n",
    "        # Set the parameters\n",
    "        self.input_nodes = input\n",
    "        self.hidden_nodes = hidden\n",
    "        self.output_nodes = output\n",
    "        self.learning_rate = learning_rate\n",
    "\n",
    "        # Set the Weight Matrix for Input-Hidden (w_i_h): w_i_j from node i in input_layer to node j in hidden_layer\n",
    "        # Rows : Number of Neurons in the Hidden Layer\n",
    "        # Columns : Number of Neurons in the Input Layer\n",
    "        # self.w_i_h = np.random.rand(self.hidden_nodes, self.input_nodes) - 0.5\n",
    "        # Using normal distribution, random.generator.normal\n",
    "        self.w_i_h = np.random.default_rng().normal(0,                            # mu = 0   \n",
    "                                                    pow(self.input_nodes, -0.5),  # sigma(standard deviation) = 1/(number of input neurons)^0.5\n",
    "                                                    (self.hidden_nodes, self.input_nodes))  # output shape        \n",
    "        \n",
    "        #Set the Weight Matrix for Hidden-Output (w_h_o): w_i_j from node i in hidden_layer to node j in output_layer\n",
    "        #self.w_h_o = np.random.rand(self.output_nodes, self.hidden_nodes) - 0.5\n",
    "        self.w_h_o = np.random.default_rng().normal(0,                            # mu = 0   \n",
    "                                                    pow(self.hidden_nodes, -0.5),  # sigma(standard deviation) = 1/(number of input neurons)^0.5\n",
    "                                                    (self.output_nodes, self.hidden_nodes))  # output shape    \n",
    "\n",
    "        self.activation_function = lambda x : expit(x)\n",
    "\n",
    "\n",
    "    \n",
    "    # Query the Neural Network --- Feed Forward\n",
    "    def query(self, input_list):\n",
    "        inputs = np.array(input_list, ndmin = 2).T\n",
    "        x_hidden = np.dot(self.w_i_h, inputs)\n",
    "        o_hidden = self.activation_function(x_hidden)\n",
    "\n",
    "        x_output = np.dot(self.w_h_o, o_hidden)\n",
    "        o_output = self.activation_function(x_output)\n",
    "\n",
    "        return o_output\n",
    "\n",
    "\n",
    "\n",
    "    # Train the Neural Network --- Back Propagation\n",
    "    def train(self, input_list, target_list):\n",
    "        # calculating outputs in Hidden and Output Layers\n",
    "        inputs = np.array(input_list, ndmin = 2).T\n",
    "        x_hidden = np.dot(self.w_i_h, inputs)\n",
    "        o_hidden = self.activation_function(x_hidden)\n",
    "\n",
    "        x_output = np.dot(self.w_h_o, o_hidden)\n",
    "        o_output = self.activation_function(x_output)\n",
    "\n",
    "        \n",
    "        # calculating Errors by differentiating between Target and Output\n",
    "        targets = np.array(target_list, ndmin = 2).T\n",
    "        output_errors = targets - o_output\n",
    "        \n",
    "        # Errors on the Hidden Layer\n",
    "        hidden_errors = np.dot(self.w_h_o.T, output_errors)\n",
    "\n",
    "        # Back Propogation and calculating new Weights\n",
    "        self.w_h_o += self.learning_rate * np.dot((output_errors * o_output * (1 - o_output)) , o_hidden.T)\n",
    "        self.w_i_h += self.learning_rate * np.dot((hidden_errors * o_hidden * (1 - o_hidden)) , inputs.T)\n",
    "\n",
    "        \n",
    "        "
   ]
  },
  {
   "cell_type": "code",
   "execution_count": null,
   "id": "a696c6c4-f543-4d9d-ae4e-64c24e71d0e7",
   "metadata": {},
   "outputs": [],
   "source": [
    "## Test\n",
    "\n",
    "mu, sigma = 0, 0.1 # mean and standard deviation\n",
    "s = np.random.default_rng().normal(mu, sigma, 1000)\n",
    "# abs(mu - np.mean(s))\n",
    "# abs(sigma - np.std(s, ddof=1))\n",
    "import matplotlib.pyplot as plt\n",
    "count, bins, ignored = plt.hist(s, 30, density=True)\n",
    "plt.plot(bins, 1/(sigma * np.sqrt(2 * np.pi)) *\n",
    "               np.exp( - (bins - mu)**2 / (2 * sigma**2) ),\n",
    "         linewidth=2, color='r')\n",
    "plt.show()"
   ]
  },
  {
   "cell_type": "markdown",
   "id": "0a7d8f97-7af8-4474-b0c8-470004fbffc3",
   "metadata": {},
   "source": [
    "# Neural Network Instance Creation"
   ]
  },
  {
   "cell_type": "code",
   "execution_count": 7,
   "id": "fd1fdab8-ae2b-4639-943d-1ba791da3f2b",
   "metadata": {},
   "outputs": [
    {
     "name": "stdout",
     "output_type": "stream",
     "text": [
      "Weight matix for input -> hidden\n",
      "[[-0.92951388  0.70031828  0.47939828]\n",
      " [-0.31907819 -0.24597218  0.51655163]\n",
      " [ 0.22431205 -0.53056127  0.49101758]]\n",
      "Mean:  0.04294136586812299\n",
      "Standard Deviation:  0.5343445634871387\n",
      "\n",
      "Weight matix for hidden -> output\n",
      "[[-0.2160873  -0.3977469  -0.05359885]\n",
      " [-0.31720321 -0.23974736  1.30403686]\n",
      " [-0.04876459  0.17065015  1.01616687]]\n",
      "\n",
      "First Output\n",
      "[[0.41285062]\n",
      " [0.59260815]\n",
      " [0.64244984]]\n"
     ]
    }
   ],
   "source": [
    "# Number of Nodes in each Layer & Learning Rate\n",
    "input_nodes = 3\n",
    "hidden_nodes = 3\n",
    "output_nodes = 3\n",
    "learning_rate = 0.3\n",
    "\n",
    "nn = NeuralNetwork(input_nodes, hidden_nodes, output_nodes, learning_rate)\n",
    "print(\"Weight matix for input -> hidden\")\n",
    "print(nn.w_i_h)\n",
    "print(\"Mean: \", np.mean(nn.w_i_h))\n",
    "print(\"Standard Deviation: \", np.std(nn.w_i_h))\n",
    "print(\"\\nWeight matix for hidden -> output\")\n",
    "print(nn.w_h_o)\n",
    "\n",
    "input = [0.1 , 0.2 , 0.3]\n",
    "target = [0.22 , 0.55 , 0.99]\n",
    "\n",
    "print(\"\\nFirst Output\")\n",
    "print(nn.query(input))\n",
    "\n",
    "\n",
    "\n",
    "\n"
   ]
  },
  {
   "cell_type": "code",
   "execution_count": 8,
   "id": "4274885f-07ea-455d-b656-ca5125139729",
   "metadata": {},
   "outputs": [
    {
     "name": "stdout",
     "output_type": "stream",
     "text": [
      "1000\n",
      "[[0.21834654 0.55027839 0.96631201]]\n",
      "2000\n",
      "[[0.21939757 0.55005427 0.97762854]]\n",
      "3000\n",
      "[[0.21967385 0.55001547 0.98185537]]\n",
      "4000\n",
      "[[0.21979257 0.5500043  0.98409996]]\n",
      "5000\n",
      "[[0.21985595 0.55000036 0.985497  ]]\n",
      "6000\n",
      "[[0.21989428 0.54999887 0.98644903]]\n",
      "7000\n",
      "[[0.21991944 0.54999834 0.98713674]]\n",
      "8000\n",
      "[[0.21993692 0.54999821 0.98765397]]\n",
      "9000\n",
      "[[0.2199496  0.54999826 0.98805456]]\n",
      "10000\n",
      "[[0.21995909 0.54999839 0.98837176]]\n"
     ]
    }
   ],
   "source": [
    "#try_1 = nn.train(input, target)\n",
    "\n",
    "#print(\"Weight matix for input -> hidden\")\n",
    "#print(nn.w_i_h)\n",
    "#print(\"\\nWeight matix for hidden -> output\")\n",
    "#print(nn.w_h_o)\n",
    "\n",
    "#print(nn.query(input).T)\n",
    "\n",
    "for i in range (1,10001):\n",
    "    nn.train(input, target)\n",
    "    if(i%1000 == 0):\n",
    "        print( i)\n",
    "        print(nn.query(input).T)\n",
    "    "
   ]
  },
  {
   "cell_type": "code",
   "execution_count": null,
   "id": "de48a11a-665e-4ed0-8635-74ea54a7d7a9",
   "metadata": {},
   "outputs": [],
   "source": []
  }
 ],
 "metadata": {
  "kernelspec": {
   "display_name": "Python 3 (ipykernel)",
   "language": "python",
   "name": "python3"
  },
  "language_info": {
   "codemirror_mode": {
    "name": "ipython",
    "version": 3
   },
   "file_extension": ".py",
   "mimetype": "text/x-python",
   "name": "python",
   "nbconvert_exporter": "python",
   "pygments_lexer": "ipython3",
   "version": "3.12.0"
  }
 },
 "nbformat": 4,
 "nbformat_minor": 5
}
